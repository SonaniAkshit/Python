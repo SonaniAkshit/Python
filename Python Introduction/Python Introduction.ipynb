{
 "cells": [
  {
   "metadata": {},
   "cell_type": "markdown",
   "source": [
    "# 🐍 Getting Started with Python\n",
    "Python is a versatile, high-level programming language that is widely supported across all major operating systems.\n",
    "\n",
    "The following program displays `Hello, World!` on the screen."
   ],
   "id": "8a77807f92f26ee"
  },
  {
   "metadata": {
    "ExecuteTime": {
     "end_time": "2025-05-20T10:35:10.209915Z",
     "start_time": "2025-05-20T10:35:10.198761Z"
    }
   },
   "cell_type": "code",
   "source": [
    "\n",
    "print(\"Hello World !\")"
   ],
   "id": "fbc121e30a2defb3",
   "outputs": [
    {
     "name": "stdout",
     "output_type": "stream",
     "text": [
      "Hello World !\n"
     ]
    }
   ],
   "execution_count": 1
  },
  {
   "metadata": {},
   "cell_type": "markdown",
   "source": "> **Note:** A `Hello World!` program includes the basic syntax of a programming language and helps beginners understand the structure before getting started. That's why it is a common practice to introduce a new language using a `Hello World!` program.",
   "id": "31e84dbf9f1d5aeb"
  },
  {
   "metadata": {},
   "cell_type": "markdown",
   "source": "",
   "id": "c833f8e9791cf4f3"
  },
  {
   "metadata": {},
   "cell_type": "markdown",
   "source": "",
   "id": "bcb4e55616bb0e4d"
  }
 ],
 "metadata": {
  "kernelspec": {
   "display_name": "Python 3",
   "language": "python",
   "name": "python3"
  },
  "language_info": {
   "codemirror_mode": {
    "name": "ipython",
    "version": 2
   },
   "file_extension": ".py",
   "mimetype": "text/x-python",
   "name": "python",
   "nbconvert_exporter": "python",
   "pygments_lexer": "ipython2",
   "version": "2.7.6"
  }
 },
 "nbformat": 4,
 "nbformat_minor": 5
}
