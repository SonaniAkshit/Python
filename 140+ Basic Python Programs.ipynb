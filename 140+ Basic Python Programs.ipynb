{
 "cells": [
  {
   "metadata": {},
   "cell_type": "markdown",
   "source": [
    "# 140+ Basic Python Programs 🐍 \n",
    "This resource can assist you in preparing for your interview 📘💼✨\n",
    "---\n",
    "\n",
    "#### Program 1️⃣\n",
    "Write a Python program to print \"Hello Python\"."
   ],
   "id": "24e7d01a30b24408"
  },
  {
   "cell_type": "code",
   "id": "initial_id",
   "metadata": {
    "collapsed": true,
    "ExecuteTime": {
     "end_time": "2025-05-31T20:22:17.241591Z",
     "start_time": "2025-05-31T20:22:17.233024Z"
    }
   },
   "source": "print(\"Hello Python\")",
   "outputs": [
    {
     "name": "stdout",
     "output_type": "stream",
     "text": [
      "Hello Python\n"
     ]
    }
   ],
   "execution_count": 2
  },
  {
   "metadata": {},
   "cell_type": "markdown",
   "source": [
    "#### program 2️⃣ \n",
    "\n",
    "Write a Python program to do arithmetic operations addition and division"
   ],
   "id": "387d68456d89f502"
  },
  {
   "metadata": {},
   "cell_type": "code",
   "outputs": [],
   "execution_count": null,
   "source": "",
   "id": "418a8e474a7196c6"
  },
  {
   "metadata": {},
   "cell_type": "markdown",
   "source": "#### ",
   "id": "9726bbc23520ef41"
  },
  {
   "metadata": {},
   "cell_type": "markdown",
   "source": "",
   "id": "b75de2e25f6b5f44"
  }
 ],
 "metadata": {
  "kernelspec": {
   "display_name": "Python 3",
   "language": "python",
   "name": "python3"
  },
  "language_info": {
   "codemirror_mode": {
    "name": "ipython",
    "version": 2
   },
   "file_extension": ".py",
   "mimetype": "text/x-python",
   "name": "python",
   "nbconvert_exporter": "python",
   "pygments_lexer": "ipython2",
   "version": "2.7.6"
  }
 },
 "nbformat": 4,
 "nbformat_minor": 5
}
