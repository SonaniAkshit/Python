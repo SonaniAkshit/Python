{
 "cells": [
  {
   "metadata": {},
   "cell_type": "markdown",
   "source": "# #️⃣ Numbers",
   "id": "1fc0ace5b9eb4429"
  },
  {
   "cell_type": "code",
   "id": "initial_id",
   "metadata": {
    "collapsed": true,
    "ExecuteTime": {
     "end_time": "2025-05-22T06:16:50.263764Z",
     "start_time": "2025-05-22T06:16:50.252756Z"
    }
   },
   "source": [
    "from scripts.regsetup import error\n",
    "from sipbuild.generator.parser.annotations import string\n",
    "\n",
    "12+24"
   ],
   "outputs": [
    {
     "data": {
      "text/plain": [
       "36"
      ]
     },
     "execution_count": 2,
     "metadata": {},
     "output_type": "execute_result"
    }
   ],
   "execution_count": 2
  },
  {
   "metadata": {
    "ExecuteTime": {
     "end_time": "2025-05-22T06:16:51.764615Z",
     "start_time": "2025-05-22T06:16:51.754681Z"
    }
   },
   "cell_type": "code",
   "source": "3-1",
   "id": "b2551784ec5e98c7",
   "outputs": [
    {
     "data": {
      "text/plain": [
       "2"
      ]
     },
     "execution_count": 4,
     "metadata": {},
     "output_type": "execute_result"
    }
   ],
   "execution_count": 4
  },
  {
   "metadata": {
    "ExecuteTime": {
     "end_time": "2025-05-22T06:16:52.064094Z",
     "start_time": "2025-05-22T06:16:52.052362Z"
    }
   },
   "cell_type": "code",
   "source": "4/2",
   "id": "ebdc6f8e82aea5e0",
   "outputs": [
    {
     "data": {
      "text/plain": [
       "2.0"
      ]
     },
     "execution_count": 5,
     "metadata": {},
     "output_type": "execute_result"
    }
   ],
   "execution_count": 5
  },
  {
   "metadata": {
    "ExecuteTime": {
     "end_time": "2025-05-22T06:17:01.543531Z",
     "start_time": "2025-05-22T06:17:01.516983Z"
    }
   },
   "cell_type": "code",
   "source": " 4*5",
   "id": "5c7896609b4ad50a",
   "outputs": [
    {
     "data": {
      "text/plain": [
       "20"
      ]
     },
     "execution_count": 6,
     "metadata": {},
     "output_type": "execute_result"
    }
   ],
   "execution_count": 6
  },
  {
   "metadata": {
    "ExecuteTime": {
     "end_time": "2025-05-22T06:17:18.740574Z",
     "start_time": "2025-05-22T06:17:18.730558Z"
    }
   },
   "cell_type": "code",
   "source": "11%2",
   "id": "b65f53ad3c36499a",
   "outputs": [
    {
     "data": {
      "text/plain": [
       "1"
      ]
     },
     "execution_count": 8,
     "metadata": {},
     "output_type": "execute_result"
    }
   ],
   "execution_count": 8
  },
  {
   "metadata": {
    "ExecuteTime": {
     "end_time": "2025-05-22T06:17:28.763721Z",
     "start_time": "2025-05-22T06:17:28.740214Z"
    }
   },
   "cell_type": "code",
   "source": "3**2",
   "id": "dc432ec0e1efefda",
   "outputs": [
    {
     "data": {
      "text/plain": [
       "9"
      ]
     },
     "execution_count": 9,
     "metadata": {},
     "output_type": "execute_result"
    }
   ],
   "execution_count": 9
  },
  {
   "metadata": {
    "ExecuteTime": {
     "end_time": "2025-05-22T06:17:42.621069Z",
     "start_time": "2025-05-22T06:17:42.602488Z"
    }
   },
   "cell_type": "code",
   "source": "2**4",
   "id": "35ca96b5e00a2fae",
   "outputs": [
    {
     "data": {
      "text/plain": [
       "16"
      ]
     },
     "execution_count": 10,
     "metadata": {},
     "output_type": "execute_result"
    }
   ],
   "execution_count": 10
  },
  {
   "metadata": {
    "ExecuteTime": {
     "end_time": "2025-05-22T06:22:46.393286Z",
     "start_time": "2025-05-22T06:22:46.381883Z"
    }
   },
   "cell_type": "code",
   "source": [
    "# You are driving from new your city to baltimore and then going to pittsburg. you wnat to know how much total distance you will be travelling ?\n",
    "\n",
    "nyx_bal = 188\n",
    "bal_pitt = 247\n",
    "\n",
    "total_distance=nyx_bal+bal_pitt\n",
    "\n",
    "total_distance"
   ],
   "id": "82e37a68146f9e5b",
   "outputs": [
    {
     "data": {
      "text/plain": [
       "435"
      ]
     },
     "execution_count": 14,
     "metadata": {},
     "output_type": "execute_result"
    }
   ],
   "execution_count": 14
  },
  {
   "metadata": {
    "ExecuteTime": {
     "end_time": "2025-05-22T06:23:40.760922Z",
     "start_time": "2025-05-22T06:23:40.749291Z"
    }
   },
   "cell_type": "code",
   "source": [
    "mph=65\n",
    "time=total_distance/mph\n",
    "time"
   ],
   "id": "6762df9f7db02d6b",
   "outputs": [
    {
     "data": {
      "text/plain": [
       "6.6923076923076925"
      ]
     },
     "execution_count": 15,
     "metadata": {},
     "output_type": "execute_result"
    }
   ],
   "execution_count": 15
  },
  {
   "metadata": {
    "ExecuteTime": {
     "end_time": "2025-05-22T06:24:06.176644Z",
     "start_time": "2025-05-22T06:24:06.150500Z"
    }
   },
   "cell_type": "code",
   "source": "round(time,2)",
   "id": "97f596bae4b456ff",
   "outputs": [
    {
     "data": {
      "text/plain": [
       "6.69"
      ]
     },
     "execution_count": 16,
     "metadata": {},
     "output_type": "execute_result"
    }
   ],
   "execution_count": 16
  },
  {
   "metadata": {
    "ExecuteTime": {
     "end_time": "2025-05-22T06:26:34.083197Z",
     "start_time": "2025-05-22T06:26:34.060725Z"
    }
   },
   "cell_type": "code",
   "source": " 10+2*3",
   "id": "e6ae7e5361ca5d79",
   "outputs": [
    {
     "data": {
      "text/plain": [
       "16"
      ]
     },
     "execution_count": 17,
     "metadata": {},
     "output_type": "execute_result"
    }
   ],
   "execution_count": 17
  },
  {
   "metadata": {
    "ExecuteTime": {
     "end_time": "2025-05-22T06:27:05.174917Z",
     "start_time": "2025-05-22T06:27:05.165385Z"
    }
   },
   "cell_type": "code",
   "source": "(10+2)*3",
   "id": "d4eed31b55894633",
   "outputs": [
    {
     "data": {
      "text/plain": [
       "36"
      ]
     },
     "execution_count": 18,
     "metadata": {},
     "output_type": "execute_result"
    }
   ],
   "execution_count": 18
  },
  {
   "metadata": {
    "ExecuteTime": {
     "end_time": "2025-05-22T06:29:45.402255Z",
     "start_time": "2025-05-22T06:29:45.388401Z"
    }
   },
   "cell_type": "code",
   "source": " 6-5.7",
   "id": "93f593d437c56297",
   "outputs": [
    {
     "data": {
      "text/plain": [
       "0.2999999999999998"
      ]
     },
     "execution_count": 21,
     "metadata": {},
     "output_type": "execute_result"
    }
   ],
   "execution_count": 21
  },
  {
   "metadata": {},
   "cell_type": "markdown",
   "source": "# *️⃣ Strings",
   "id": "dcb58a155beadcf5"
  },
  {
   "metadata": {
    "ExecuteTime": {
     "end_time": "2025-05-22T06:31:58.237449Z",
     "start_time": "2025-05-22T06:31:58.215431Z"
    }
   },
   "cell_type": "code",
   "source": [
    "text = \"akshit\"\n",
    "text"
   ],
   "id": "10fb2c781005218",
   "outputs": [
    {
     "data": {
      "text/plain": [
       "'akshit'"
      ]
     },
     "execution_count": 22,
     "metadata": {},
     "output_type": "execute_result"
    }
   ],
   "execution_count": 22
  },
  {
   "metadata": {
    "ExecuteTime": {
     "end_time": "2025-05-22T06:32:06.896689Z",
     "start_time": "2025-05-22T06:32:06.878230Z"
    }
   },
   "cell_type": "code",
   "source": "text[0]",
   "id": "aa3ca59fe71fa2df",
   "outputs": [
    {
     "data": {
      "text/plain": [
       "'a'"
      ]
     },
     "execution_count": 23,
     "metadata": {},
     "output_type": "execute_result"
    }
   ],
   "execution_count": 23
  },
  {
   "metadata": {
    "ExecuteTime": {
     "end_time": "2025-05-22T06:32:22.989577Z",
     "start_time": "2025-05-22T06:32:22.981106Z"
    }
   },
   "cell_type": "code",
   "source": "text[5]",
   "id": "86be12944184bc0c",
   "outputs": [
    {
     "data": {
      "text/plain": [
       "'t'"
      ]
     },
     "execution_count": 25,
     "metadata": {},
     "output_type": "execute_result"
    }
   ],
   "execution_count": 25
  },
  {
   "metadata": {
    "ExecuteTime": {
     "end_time": "2025-05-22T06:35:30.615775Z",
     "start_time": "2025-05-22T06:35:30.586643Z"
    }
   },
   "cell_type": "code",
   "source": "text[6] # Show an error because index of `6` is not in a string",
   "id": "365256d8053973b0",
   "outputs": [
    {
     "ename": "IndexError",
     "evalue": "string index out of range",
     "output_type": "error",
     "traceback": [
      "\u001B[1;31m---------------------------------------------------------------------------\u001B[0m",
      "\u001B[1;31mIndexError\u001B[0m                                Traceback (most recent call last)",
      "Cell \u001B[1;32mIn[27], line 1\u001B[0m\n\u001B[1;32m----> 1\u001B[0m \u001B[43mtext\u001B[49m\u001B[43m[\u001B[49m\u001B[38;5;241;43m6\u001B[39;49m\u001B[43m]\u001B[49m \u001B[38;5;66;03m# index of `6` in not in a string\u001B[39;00m\n",
      "\u001B[1;31mIndexError\u001B[0m: string index out of range"
     ]
    }
   ],
   "execution_count": 27
  },
  {
   "metadata": {
    "ExecuteTime": {
     "end_time": "2025-05-22T06:40:33.722301Z",
     "start_time": "2025-05-22T06:40:33.680209Z"
    }
   },
   "cell_type": "code",
   "source": "text[0] = 'b' # show error because in index 0 = 'a' and string not mutable then index 0 != 'b'",
   "id": "d9848a1e2acd45ad",
   "outputs": [
    {
     "ename": "TypeError",
     "evalue": "'str' object does not support item assignment",
     "output_type": "error",
     "traceback": [
      "\u001B[1;31m---------------------------------------------------------------------------\u001B[0m",
      "\u001B[1;31mTypeError\u001B[0m                                 Traceback (most recent call last)",
      "Cell \u001B[1;32mIn[29], line 1\u001B[0m\n\u001B[1;32m----> 1\u001B[0m \u001B[43mtext\u001B[49m\u001B[43m[\u001B[49m\u001B[38;5;241;43m0\u001B[39;49m\u001B[43m]\u001B[49m \u001B[38;5;241m=\u001B[39m \u001B[38;5;124m'\u001B[39m\u001B[38;5;124mb\u001B[39m\u001B[38;5;124m'\u001B[39m \u001B[38;5;66;03m# show error because in index 0 = 'a' and string not mutable then index 0 != 'b'\u001B[39;00m\n",
      "\u001B[1;31mTypeError\u001B[0m: 'str' object does not support item assignment"
     ]
    }
   ],
   "execution_count": 29
  },
  {
   "metadata": {
    "ExecuteTime": {
     "end_time": "2025-05-22T06:41:17.659121Z",
     "start_time": "2025-05-22T06:41:17.649595Z"
    }
   },
   "cell_type": "code",
   "source": "text[0:3]",
   "id": "75c175a4efa76849",
   "outputs": [
    {
     "data": {
      "text/plain": [
       "'aks'"
      ]
     },
     "execution_count": 30,
     "metadata": {},
     "output_type": "execute_result"
    }
   ],
   "execution_count": 30
  },
  {
   "metadata": {
    "ExecuteTime": {
     "end_time": "2025-05-22T06:42:09.816300Z",
     "start_time": "2025-05-22T06:42:09.809157Z"
    }
   },
   "cell_type": "code",
   "source": "text[2:6]",
   "id": "bd3d8b7058f19ddc",
   "outputs": [
    {
     "data": {
      "text/plain": [
       "'shit'"
      ]
     },
     "execution_count": 35,
     "metadata": {},
     "output_type": "execute_result"
    }
   ],
   "execution_count": 35
  },
  {
   "metadata": {
    "ExecuteTime": {
     "end_time": "2025-05-22T06:42:20.616980Z",
     "start_time": "2025-05-22T06:42:20.585562Z"
    }
   },
   "cell_type": "code",
   "source": "text[2:]",
   "id": "80fc20e814086694",
   "outputs": [
    {
     "data": {
      "text/plain": [
       "'shit'"
      ]
     },
     "execution_count": 36,
     "metadata": {},
     "output_type": "execute_result"
    }
   ],
   "execution_count": 36
  },
  {
   "metadata": {
    "ExecuteTime": {
     "end_time": "2025-05-22T06:42:43.811942Z",
     "start_time": "2025-05-22T06:42:43.792775Z"
    }
   },
   "cell_type": "code",
   "source": "text[:2]",
   "id": "897d488cdfd90acb",
   "outputs": [
    {
     "data": {
      "text/plain": [
       "'ak'"
      ]
     },
     "execution_count": 37,
     "metadata": {},
     "output_type": "execute_result"
    }
   ],
   "execution_count": 37
  },
  {
   "metadata": {
    "ExecuteTime": {
     "end_time": "2025-05-22T06:43:08.586053Z",
     "start_time": "2025-05-22T06:43:08.573895Z"
    }
   },
   "cell_type": "code",
   "source": [
    "text=\"akshit\"\n",
    "text='akshit'"
   ],
   "id": "90b4442862fd21e6",
   "outputs": [],
   "execution_count": 38
  },
  {
   "metadata": {
    "ExecuteTime": {
     "end_time": "2025-05-22T06:44:20.066157Z",
     "start_time": "2025-05-22T06:44:20.058390Z"
    }
   },
   "cell_type": "code",
   "source": "text[:-3]",
   "id": "98c2d7ac63e08598",
   "outputs": [
    {
     "data": {
      "text/plain": [
       "'aks'"
      ]
     },
     "execution_count": 44,
     "metadata": {},
     "output_type": "execute_result"
    }
   ],
   "execution_count": 44
  },
  {
   "metadata": {
    "ExecuteTime": {
     "end_time": "2025-05-22T06:46:19.509526Z",
     "start_time": "2025-05-22T06:46:19.502495Z"
    }
   },
   "cell_type": "code",
   "source": [
    "address='''1 purple street\n",
    "surat,gujarat\n",
    "india'''"
   ],
   "id": "b30a7a9f124d4940",
   "outputs": [],
   "execution_count": 50
  },
  {
   "metadata": {
    "ExecuteTime": {
     "end_time": "2025-05-22T06:46:31.032654Z",
     "start_time": "2025-05-22T06:46:31.024786Z"
    }
   },
   "cell_type": "code",
   "source": "address",
   "id": "ff7e33c9c9d49712",
   "outputs": [
    {
     "data": {
      "text/plain": [
       "'1 purple street\\nsurat,gujarat\\nindia'"
      ]
     },
     "execution_count": 52,
     "metadata": {},
     "output_type": "execute_result"
    }
   ],
   "execution_count": 52
  },
  {
   "metadata": {
    "ExecuteTime": {
     "end_time": "2025-05-22T06:46:34.035581Z",
     "start_time": "2025-05-22T06:46:34.016582Z"
    }
   },
   "cell_type": "code",
   "source": "print(address)",
   "id": "582f7545c39dd274",
   "outputs": [
    {
     "name": "stdout",
     "output_type": "stream",
     "text": [
      "1 purple street\n",
      "surat,gujarat\n",
      "india\n"
     ]
    }
   ],
   "execution_count": 53
  },
  {
   "metadata": {
    "ExecuteTime": {
     "end_time": "2025-05-22T06:47:01.941340Z",
     "start_time": "2025-05-22T06:47:01.933597Z"
    }
   },
   "cell_type": "code",
   "source": [
    "s1 = 'akshit'\n",
    "s2 = 'sonani'"
   ],
   "id": "ad6f0890838cc20e",
   "outputs": [],
   "execution_count": 55
  },
  {
   "metadata": {
    "ExecuteTime": {
     "end_time": "2025-05-22T06:47:06.932147Z",
     "start_time": "2025-05-22T06:47:06.910327Z"
    }
   },
   "cell_type": "code",
   "source": "s1+s2",
   "id": "10352241a08bc7ee",
   "outputs": [
    {
     "data": {
      "text/plain": [
       "'akshitsonani'"
      ]
     },
     "execution_count": 56,
     "metadata": {},
     "output_type": "execute_result"
    }
   ],
   "execution_count": 56
  },
  {
   "metadata": {
    "ExecuteTime": {
     "end_time": "2025-05-22T06:47:24.431177Z",
     "start_time": "2025-05-22T06:47:24.409614Z"
    }
   },
   "cell_type": "code",
   "source": "s1+' '+s2",
   "id": "3d719f166366dffe",
   "outputs": [
    {
     "data": {
      "text/plain": [
       "'akshit sonani'"
      ]
     },
     "execution_count": 57,
     "metadata": {},
     "output_type": "execute_result"
    }
   ],
   "execution_count": 57
  },
  {
   "metadata": {
    "ExecuteTime": {
     "end_time": "2025-05-22T06:54:10.710279Z",
     "start_time": "2025-05-22T06:54:10.698332Z"
    }
   },
   "cell_type": "code",
   "source": [
    "s = \"total city in india #\"\n",
    "n1='255'\n",
    "\n",
    "s+n1"
   ],
   "id": "535ce6253476a9e2",
   "outputs": [
    {
     "data": {
      "text/plain": [
       "'total city in india #255'"
      ]
     },
     "execution_count": 76,
     "metadata": {},
     "output_type": "execute_result"
    }
   ],
   "execution_count": 76
  },
  {
   "metadata": {},
   "cell_type": "markdown",
   "source": "# 🔠 Lists",
   "id": "dc11ca1e10c41bad"
  },
  {
   "metadata": {
    "ExecuteTime": {
     "end_time": "2025-05-22T06:54:14.540969Z",
     "start_time": "2025-05-22T06:54:14.535973Z"
    }
   },
   "cell_type": "code",
   "source": "",
   "id": "8ed4042f1d1b7be2",
   "outputs": [],
   "execution_count": null
  },
  {
   "metadata": {
    "ExecuteTime": {
     "end_time": "2025-05-22T06:50:10.511285Z",
     "start_time": "2025-05-22T06:50:10.505570Z"
    }
   },
   "cell_type": "code",
   "source": "",
   "id": "8fb5565cf5a6d3b2",
   "outputs": [],
   "execution_count": null
  },
  {
   "metadata": {},
   "cell_type": "code",
   "outputs": [],
   "execution_count": null,
   "source": "",
   "id": "732b07749e1550a9"
  }
 ],
 "metadata": {
  "kernelspec": {
   "display_name": "Python 3",
   "language": "python",
   "name": "python3"
  },
  "language_info": {
   "codemirror_mode": {
    "name": "ipython",
    "version": 2
   },
   "file_extension": ".py",
   "mimetype": "text/x-python",
   "name": "python",
   "nbconvert_exporter": "python",
   "pygments_lexer": "ipython2",
   "version": "2.7.6"
  }
 },
 "nbformat": 4,
 "nbformat_minor": 5
}
