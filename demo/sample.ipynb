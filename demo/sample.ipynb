{
 "cells": [
  {
   "metadata": {},
   "cell_type": "markdown",
   "source": [
    "# This is a sample Jupyter Notebook\n",
    "\n",
    "Below is an example of a code cell. \n",
    "Put your cursor into the cell and press Shift+Enter to execute it and select the next one, or click 'Run Cell' button.\n",
    "\n",
    "Press Double Shift to search everywhere for classes, files, tool windows, actions, and settings.\n",
    "\n",
    "To learn more about Jupyter Notebooks in PyCharm, see [help](https://www.jetbrains.com/help/pycharm/ipython-notebook-support.html).\n",
    "For an overview of PyCharm, go to Help -> Learn IDE features or refer to [our documentation](https://www.jetbrains.com/help/pycharm/getting-started.html)."
   ],
   "id": "8a77807f92f26ee"
  },
  {
   "metadata": {
    "ExecuteTime": {
     "end_time": "2025-05-07T13:40:35.091290Z",
     "start_time": "2025-05-07T13:40:35.077269Z"
    }
   },
   "cell_type": "code",
   "source": "print(\"Hello World!\")",
   "id": "fbc121e30a2defb3",
   "outputs": [
    {
     "name": "stdout",
     "output_type": "stream",
     "text": [
      "Hello World!\n"
     ]
    }
   ],
   "execution_count": 1
  },
  {
   "metadata": {},
   "cell_type": "markdown",
   "source": "",
   "id": "e0ecb5db92b04146"
  },
  {
   "metadata": {
    "ExecuteTime": {
     "end_time": "2025-05-07T13:51:53.061011Z",
     "start_time": "2025-05-07T13:51:53.047475Z"
    }
   },
   "cell_type": "code",
   "source": [
    "list = ['abc',1]\n",
    "tuple = (1,'abc')\n",
    "set = {1,'akshit'}\n",
    "dict = {1:\"akshit\"}\n",
    "\n",
    "print(list)\n",
    "print(type(list))\n",
    "print(tuple)\n",
    "print(type(tuple))\n",
    "print(set)\n",
    "print(type(set))\n",
    "print(dict)\n",
    "print(type(dict))"
   ],
   "id": "de6a469b82460bb9",
   "outputs": [
    {
     "name": "stdout",
     "output_type": "stream",
     "text": [
      "['abc', 1]\n",
      "<class 'list'>\n",
      "(1, 'abc')\n",
      "<class 'tuple'>\n",
      "{'akshit', 1}\n",
      "<class 'set'>\n",
      "{1: 'akshit'}\n",
      "<class 'dict'>\n"
     ]
    }
   ],
   "execution_count": 18
  },
  {
   "metadata": {},
   "cell_type": "markdown",
   "source": "",
   "id": "839b09a1a375737e"
  },
  {
   "metadata": {},
   "cell_type": "code",
   "outputs": [],
   "execution_count": null,
   "source": "",
   "id": "40c8725f8e41ebbc"
  }
 ],
 "metadata": {
  "kernelspec": {
   "display_name": "Python 3",
   "language": "python",
   "name": "python3"
  },
  "language_info": {
   "codemirror_mode": {
    "name": "ipython",
    "version": 2
   },
   "file_extension": ".py",
   "mimetype": "text/x-python",
   "name": "python",
   "nbconvert_exporter": "python",
   "pygments_lexer": "ipython2",
   "version": "2.7.6"
  }
 },
 "nbformat": 4,
 "nbformat_minor": 5
}
