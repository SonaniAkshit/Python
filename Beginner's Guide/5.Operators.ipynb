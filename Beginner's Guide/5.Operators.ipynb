{
 "cells": [
  {
   "metadata": {},
   "cell_type": "markdown",
   "source": [
    "<h1 style=\"color:red\">🔵 What are operators ❔</h1>\n",
    "\n",
    "Operators are symbols that perform operations on variables and values. Python has several types of operators for different tasks like\n",
    "arithmetic, comparison, logical operations, and more.\n",
    "\n",
    "Lets see every operators one by one"
   ],
   "id": "3fa9f505c71fe158"
  },
  {
   "metadata": {},
   "cell_type": "markdown",
   "source": [
    "<h1 style=\"color:red\">📌Arithmetic operators </h1>\n",
    "\n",
    "Arithmetic operators perform mathematical operations like addition, subtraction, multiplication, division, etc.\n",
    "\n",
    "There are 7 types of arithmetic operator.\n",
    "\n"
   ],
   "id": "82fb468ba24e6e94"
  }
 ],
 "metadata": {
  "kernelspec": {
   "display_name": "Python 3",
   "language": "python",
   "name": "python3"
  },
  "language_info": {
   "codemirror_mode": {
    "name": "ipython",
    "version": 2
   },
   "file_extension": ".py",
   "mimetype": "text/x-python",
   "name": "python",
   "nbconvert_exporter": "python",
   "pygments_lexer": "ipython2",
   "version": "2.7.6"
  }
 },
 "nbformat": 4,
 "nbformat_minor": 5
}
