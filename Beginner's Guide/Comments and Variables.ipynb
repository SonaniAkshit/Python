{
 "cells": [
  {
   "metadata": {},
   "cell_type": "markdown",
   "source": [
    "# #️⃣ Comments and Variables\n",
    "\n",
    "- Comments are something that are ignored by the python interpreter\n",
    "- We have to use `#` for writing a comment in python\n",
    "- Multiline comments are not available in python but we can achieve it by using Doc String `\"\"\" Multiline \"\"\"`\n",
    "\n",
    "### 1️⃣ Single line comment"
   ],
   "id": "b9489678a55b2a1"
  },
  {
   "metadata": {
    "ExecuteTime": {
     "end_time": "2025-06-11T18:41:22.583215Z",
     "start_time": "2025-06-11T18:41:22.572314Z"
    }
   },
   "cell_type": "code",
   "source": [
    "# hello i am akshit\n",
    "hello i m akshit #show an error"
   ],
   "id": "bb979957dceff7d9",
   "outputs": [
    {
     "ename": "SyntaxError",
     "evalue": "invalid syntax (161201529.py, line 2)",
     "output_type": "error",
     "traceback": [
      "\u001B[1;36m  Cell \u001B[1;32mIn[2], line 2\u001B[1;36m\u001B[0m\n\u001B[1;33m    hello i m akshit #show an error\u001B[0m\n\u001B[1;37m          ^\u001B[0m\n\u001B[1;31mSyntaxError\u001B[0m\u001B[1;31m:\u001B[0m invalid syntax\n"
     ]
    }
   ],
   "execution_count": 2
  },
  {
   "metadata": {},
   "cell_type": "markdown",
   "source": "### 2️⃣ Multi-Line Comment(Doc String)",
   "id": "b58ab1a0874d2c06"
  },
  {
   "metadata": {
    "jupyter": {
     "is_executing": true
    }
   },
   "cell_type": "code",
   "source": [
    "'''Hello i m akshit\n",
    "i m doing mca.'''\n",
    "\n",
    "\"\"\"Hello i m akshit\n",
    "i m doing mca.\"\"\"\n",
    "\n",
    "# both are multi line commnet and doc strings"
   ],
   "id": "9ff8f12f576fed57",
   "outputs": [],
   "execution_count": null
  },
  {
   "metadata": {},
   "cell_type": "code",
   "outputs": [],
   "execution_count": null,
   "source": "",
   "id": "4f900d0cf62b81ed"
  }
 ],
 "metadata": {
  "kernelspec": {
   "display_name": "Python 3",
   "language": "python",
   "name": "python3"
  },
  "language_info": {
   "codemirror_mode": {
    "name": "ipython",
    "version": 2
   },
   "file_extension": ".py",
   "mimetype": "text/x-python",
   "name": "python",
   "nbconvert_exporter": "python",
   "pygments_lexer": "ipython2",
   "version": "2.7.6"
  }
 },
 "nbformat": 4,
 "nbformat_minor": 5
}
