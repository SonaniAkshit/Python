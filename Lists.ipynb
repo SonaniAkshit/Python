{
 "cells": [
  {
   "metadata": {},
   "cell_type": "markdown",
   "source": "# 🔠Lists",
   "id": "fe6b4173b515cf23"
  },
  {
   "cell_type": "code",
   "id": "initial_id",
   "metadata": {
    "collapsed": true,
    "ExecuteTime": {
     "end_time": "2025-05-22T07:06:56.413941Z",
     "start_time": "2025-05-22T07:06:56.405237Z"
    }
   },
   "source": [
    "item1=\"bread\"\n",
    "item2=\"apple\"\n",
    "item3=\"pasta\"\n",
    "\n",
    "items=[\"bread\",\"apple\",\"pasta\"] # create list to direct stor list values\n",
    "print(items)\n",
    "items=[item1,item2,item3] # create list to first stor value in variable than variable store in list\n",
    "print(items)"
   ],
   "outputs": [
    {
     "name": "stdout",
     "output_type": "stream",
     "text": [
      "['bread', 'apple', 'pasta']\n",
      "['bread', 'apple', 'pasta']\n"
     ]
    }
   ],
   "execution_count": 7
  },
  {
   "metadata": {
    "ExecuteTime": {
     "end_time": "2025-05-22T07:07:46.963769Z",
     "start_time": "2025-05-22T07:07:46.944500Z"
    }
   },
   "cell_type": "code",
   "source": "items[0]",
   "id": "5e8623dd12d48a84",
   "outputs": [
    {
     "data": {
      "text/plain": [
       "'bread'"
      ]
     },
     "execution_count": 8,
     "metadata": {},
     "output_type": "execute_result"
    }
   ],
   "execution_count": 8
  },
  {
   "metadata": {
    "ExecuteTime": {
     "end_time": "2025-05-22T07:07:52.753898Z",
     "start_time": "2025-05-22T07:07:52.731527Z"
    }
   },
   "cell_type": "code",
   "source": "items[1]",
   "id": "63d586a541133ef",
   "outputs": [
    {
     "data": {
      "text/plain": [
       "'apple'"
      ]
     },
     "execution_count": 9,
     "metadata": {},
     "output_type": "execute_result"
    }
   ],
   "execution_count": 9
  },
  {
   "metadata": {
    "ExecuteTime": {
     "end_time": "2025-05-22T07:08:58.399979Z",
     "start_time": "2025-05-22T07:08:58.389672Z"
    }
   },
   "cell_type": "code",
   "source": "items[2]",
   "id": "70a1c45b778d53fc",
   "outputs": [
    {
     "data": {
      "text/plain": [
       "'pasta'"
      ]
     },
     "execution_count": 14,
     "metadata": {},
     "output_type": "execute_result"
    }
   ],
   "execution_count": 14
  },
  {
   "metadata": {
    "ExecuteTime": {
     "end_time": "2025-05-22T07:08:30.964495Z",
     "start_time": "2025-05-22T07:08:30.958378Z"
    }
   },
   "cell_type": "code",
   "source": "items[0]=\"mengo\" # list in mutable",
   "id": "343be4f44419e1b7",
   "outputs": [],
   "execution_count": 12
  },
  {
   "metadata": {
    "ExecuteTime": {
     "end_time": "2025-05-22T07:08:34.109515Z",
     "start_time": "2025-05-22T07:08:34.100097Z"
    }
   },
   "cell_type": "code",
   "source": "items",
   "id": "50f04a9c727fb1cc",
   "outputs": [
    {
     "data": {
      "text/plain": [
       "['mengo', 'apple', 'pasta']"
      ]
     },
     "execution_count": 13,
     "metadata": {},
     "output_type": "execute_result"
    }
   ],
   "execution_count": 13
  },
  {
   "metadata": {
    "ExecuteTime": {
     "end_time": "2025-05-22T07:10:04.073019Z",
     "start_time": "2025-05-22T07:10:04.064873Z"
    }
   },
   "cell_type": "code",
   "source": "items[0:1]",
   "id": "cf083bf080a26b39",
   "outputs": [
    {
     "data": {
      "text/plain": [
       "['mengo']"
      ]
     },
     "execution_count": 17,
     "metadata": {},
     "output_type": "execute_result"
    }
   ],
   "execution_count": 17
  },
  {
   "metadata": {
    "ExecuteTime": {
     "end_time": "2025-05-22T07:10:15.658400Z",
     "start_time": "2025-05-22T07:10:15.641457Z"
    }
   },
   "cell_type": "code",
   "source": "items[0:2]",
   "id": "85b4a984c042d7dd",
   "outputs": [
    {
     "data": {
      "text/plain": [
       "['mengo', 'apple']"
      ]
     },
     "execution_count": 18,
     "metadata": {},
     "output_type": "execute_result"
    }
   ],
   "execution_count": 18
  },
  {
   "metadata": {
    "ExecuteTime": {
     "end_time": "2025-05-22T07:10:31.303546Z",
     "start_time": "2025-05-22T07:10:31.283982Z"
    }
   },
   "cell_type": "code",
   "source": "items[-1]",
   "id": "9fce9e5eb96aa167",
   "outputs": [
    {
     "data": {
      "text/plain": [
       "'pasta'"
      ]
     },
     "execution_count": 19,
     "metadata": {},
     "output_type": "execute_result"
    }
   ],
   "execution_count": 19
  },
  {
   "metadata": {
    "ExecuteTime": {
     "end_time": "2025-05-22T07:11:49.122902Z",
     "start_time": "2025-05-22T07:11:49.116283Z"
    }
   },
   "cell_type": "code",
   "source": "items.append(\"butter\")",
   "id": "97230d0acd504137",
   "outputs": [],
   "execution_count": 25
  },
  {
   "metadata": {
    "ExecuteTime": {
     "end_time": "2025-05-22T07:11:51.954386Z",
     "start_time": "2025-05-22T07:11:51.937454Z"
    }
   },
   "cell_type": "code",
   "source": "items",
   "id": "7b6f570cddbe0a41",
   "outputs": [
    {
     "data": {
      "text/plain": [
       "['mengo', 'apple', 'pasta', 'butter']"
      ]
     },
     "execution_count": 26,
     "metadata": {},
     "output_type": "execute_result"
    }
   ],
   "execution_count": 26
  },
  {
   "metadata": {
    "ExecuteTime": {
     "end_time": "2025-05-22T07:13:02.949267Z",
     "start_time": "2025-05-22T07:13:02.941827Z"
    }
   },
   "cell_type": "code",
   "source": "items.insert(0,\"banana\")",
   "id": "19cbd64c2d488606",
   "outputs": [],
   "execution_count": 28
  },
  {
   "metadata": {
    "ExecuteTime": {
     "end_time": "2025-05-22T07:13:05.585505Z",
     "start_time": "2025-05-22T07:13:05.577495Z"
    }
   },
   "cell_type": "code",
   "source": "items",
   "id": "12470c477cc99be0",
   "outputs": [
    {
     "data": {
      "text/plain": [
       "['banana', 'mengo', 'apple', 'pasta', 'butter']"
      ]
     },
     "execution_count": 29,
     "metadata": {},
     "output_type": "execute_result"
    }
   ],
   "execution_count": 29
  },
  {
   "metadata": {
    "ExecuteTime": {
     "end_time": "2025-05-22T07:15:16.284328Z",
     "start_time": "2025-05-22T07:15:16.262527Z"
    }
   },
   "cell_type": "code",
   "source": [
    "food=[\"bread\",\"pasta\",\"fruits\"]\n",
    "bathroom=[\"shampoo\",\"soap\"]\n",
    "items=food+bathroom\n",
    "items"
   ],
   "id": "f182d8a9895187d4",
   "outputs": [
    {
     "data": {
      "text/plain": [
       "['bread', 'pasta', 'fruits', 'shampoo', 'soap']"
      ]
     },
     "execution_count": 30,
     "metadata": {},
     "output_type": "execute_result"
    }
   ],
   "execution_count": 30
  },
  {
   "metadata": {
    "ExecuteTime": {
     "end_time": "2025-05-22T07:16:27.787803Z",
     "start_time": "2025-05-22T07:16:27.764958Z"
    }
   },
   "cell_type": "code",
   "source": "len(items)",
   "id": "4812e624809fce69",
   "outputs": [
    {
     "data": {
      "text/plain": [
       "5"
      ]
     },
     "execution_count": 32,
     "metadata": {},
     "output_type": "execute_result"
    }
   ],
   "execution_count": 32
  },
  {
   "metadata": {
    "ExecuteTime": {
     "end_time": "2025-05-22T07:17:19.907863Z",
     "start_time": "2025-05-22T07:17:19.888951Z"
    }
   },
   "cell_type": "code",
   "source": "\"bread\" in items",
   "id": "f42d630f7a0ed45",
   "outputs": [
    {
     "data": {
      "text/plain": [
       "True"
      ]
     },
     "execution_count": 33,
     "metadata": {},
     "output_type": "execute_result"
    }
   ],
   "execution_count": 33
  },
  {
   "metadata": {
    "ExecuteTime": {
     "end_time": "2025-05-22T07:17:27.257472Z",
     "start_time": "2025-05-22T07:17:27.235017Z"
    }
   },
   "cell_type": "code",
   "source": "\"soad\" in items",
   "id": "6292df41178f0661",
   "outputs": [
    {
     "data": {
      "text/plain": [
       "False"
      ]
     },
     "execution_count": 34,
     "metadata": {},
     "output_type": "execute_result"
    }
   ],
   "execution_count": 34
  }
 ],
 "metadata": {
  "kernelspec": {
   "display_name": "Python 3",
   "language": "python",
   "name": "python3"
  },
  "language_info": {
   "codemirror_mode": {
    "name": "ipython",
    "version": 2
   },
   "file_extension": ".py",
   "mimetype": "text/x-python",
   "name": "python",
   "nbconvert_exporter": "python",
   "pygments_lexer": "ipython2",
   "version": "2.7.6"
  }
 },
 "nbformat": 4,
 "nbformat_minor": 5
}
