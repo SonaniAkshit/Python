{
 "cells": [
  {
   "metadata": {},
   "cell_type": "markdown",
   "source": [
    "# Getting Started with Python 🐍\n",
    "\n",
    "Python is a versatile, high-level programming language that is widely supported across all major operating systems.Now, let's write a simple Python program.\n",
    "\n",
    "The following program displays `Hello, World!` on the screen.\n",
    "\n"
   ],
   "id": "27084b9aa51c5d83"
  },
  {
   "cell_type": "code",
   "id": "initial_id",
   "metadata": {
    "collapsed": true,
    "ExecuteTime": {
     "end_time": "2025-05-20T10:51:43.127272Z",
     "start_time": "2025-05-20T10:51:43.113547Z"
    }
   },
   "source": "print(\"Hello World!\")",
   "outputs": [
    {
     "name": "stdout",
     "output_type": "stream",
     "text": [
      "Hello World!\n"
     ]
    }
   ],
   "execution_count": 1
  },
  {
   "metadata": {},
   "cell_type": "markdown",
   "source": [
    "\n",
    "> **Note:**  A `Hello World!` program includes the basic syntax of a programming language and helps beginners understand the structure before getting started. That's why it is a common practice to introduce a new language using a `Hello World!` program.\n",
    "\n",
    "## Working of the Program\n",
    "\n",
    "Now, let's see how the above program works.\n",
    "\n",
    "In Python, anything inside `print()` is displayed on the screen.\n",
    "\n",
    "There are two things to note about `print()`:\n",
    "\n",
    "- Everything we want to display on the screen is included inside the parentheses `()`.\n",
    "- The text we want to print is placed within double quotes `\" \"`.\n",
    "\n",
    "We can also use single quotes to print text on the screen. For example,"
   ],
   "id": "6c6881e77a6822ac"
  },
  {
   "metadata": {
    "ExecuteTime": {
     "end_time": "2025-05-20T10:58:52.632178Z",
     "start_time": "2025-05-20T10:58:52.613264Z"
    }
   },
   "cell_type": "code",
   "source": "print('Hello World!')",
   "id": "28562c5631d87ca5",
   "outputs": [
    {
     "name": "stdout",
     "output_type": "stream",
     "text": [
      "Hello World!\n"
     ]
    }
   ],
   "execution_count": 2
  },
  {
   "metadata": {},
   "cell_type": "markdown",
   "source": "is same as",
   "id": "b5a72c670340a451"
  },
  {
   "metadata": {
    "ExecuteTime": {
     "end_time": "2025-05-20T10:59:12.530750Z",
     "start_time": "2025-05-20T10:59:12.523496Z"
    }
   },
   "cell_type": "code",
   "source": "print(\"Hello World!\")",
   "id": "b6125d13581b6567",
   "outputs": [
    {
     "name": "stdout",
     "output_type": "stream",
     "text": [
      "Hello World!\n"
     ]
    }
   ],
   "execution_count": 3
  },
  {
   "metadata": {},
   "cell_type": "markdown",
   "source": [
    "## #️⃣ Python Comments\n",
    "\n",
    "Comments are hints that we add to our code to make it easier to understand. Python comments start with `#`. For example,\n"
   ],
   "id": "531d86a956fc7f5e"
  },
  {
   "metadata": {
    "ExecuteTime": {
     "end_time": "2025-05-20T11:07:22.919535Z",
     "start_time": "2025-05-20T11:07:22.885515Z"
    }
   },
   "cell_type": "code",
   "source": [
    "# print a number\n",
    "print(25)"
   ],
   "id": "59234f0c3ece071a",
   "outputs": [
    {
     "name": "stdout",
     "output_type": "stream",
     "text": [
      "25\n"
     ]
    }
   ],
   "execution_count": 4
  },
  {
   "metadata": {},
   "cell_type": "markdown",
   "source": [
    "Here, `# print a number` is a comment.\n",
    "\n",
    "Comments are completely ignored and not executed by code editors.\n",
    "\n",
    "### *️⃣ Single-line Comment\n",
    "\n",
    "We use the **hash (`#`)** symbol to write a single-line comment. For example,\n"
   ],
   "id": "568e5730feb3101f"
  },
  {
   "metadata": {
    "ExecuteTime": {
     "end_time": "2025-05-20T11:15:47.477137Z",
     "start_time": "2025-05-20T11:15:47.466874Z"
    }
   },
   "cell_type": "code",
   "source": [
    "# declare a variable\n",
    "name = \"Akshit\"\n",
    "\n",
    "# print name\n",
    "print(name)    # Akshit"
   ],
   "id": "327e6f473456c94",
   "outputs": [
    {
     "name": "stdout",
     "output_type": "stream",
     "text": [
      "Akshit\n"
     ]
    }
   ],
   "execution_count": 10
  },
  {
   "metadata": {},
   "cell_type": "markdown",
   "source": [
    "In the above example, we have used three single-line comments:\n",
    "\n",
    "- `# declare a variable`\n",
    "- `# print name`\n",
    "- `# John`"
   ],
   "id": "3a0f39ea97a225a9"
  },
  {
   "metadata": {},
   "cell_type": "markdown",
   "source": [
    "A **single-line comment** starts with `#` and extends up to the end of the line. We can also use single-line comments alongside the code:\n",
    "\n"
   ],
   "id": "1fe7e18d50f43522"
  },
  {
   "metadata": {
    "ExecuteTime": {
     "end_time": "2025-05-20T11:16:30.038798Z",
     "start_time": "2025-05-20T11:16:30.025312Z"
    }
   },
   "cell_type": "code",
   "source": "print(name)    # Akshit",
   "id": "d7d4c737e4b46eb1",
   "outputs": [
    {
     "name": "stdout",
     "output_type": "stream",
     "text": [
      "Akshit\n"
     ]
    }
   ],
   "execution_count": 11
  },
  {
   "metadata": {},
   "cell_type": "markdown",
   "source": [
    "## #️⃣ Multiline Comments\n",
    "\n",
    "Unlike languages such as C++ and Java, Python doesn't have a dedicated method to write multi-line comments.\n",
    "\n",
    "However, we can achieve the same effect by using the hash (`#`) symbol at the beginning of each line.\n",
    "\n",
    "Let's look at an example."
   ],
   "id": "d69d9ff5cbb77cc2"
  },
  {
   "metadata": {
    "ExecuteTime": {
     "end_time": "2025-05-20T11:17:37.272921Z",
     "start_time": "2025-05-20T11:17:37.254022Z"
    }
   },
   "cell_type": "code",
   "source": [
    "# This is an example of a multiline comment\n",
    "# created using multiple single-line commenced\n",
    "# The code prints the text Hello World\n",
    "print(\"Hello, World!\")"
   ],
   "id": "ce93691cdb8d1d57",
   "outputs": [
    {
     "name": "stdout",
     "output_type": "stream",
     "text": [
      "Hello, World!\n"
     ]
    }
   ],
   "execution_count": 12
  },
  {
   "metadata": {},
   "cell_type": "markdown",
   "source": "We can also use multiline strings as comments like:",
   "id": "edce2da35ab3d6ae"
  },
  {
   "metadata": {
    "ExecuteTime": {
     "end_time": "2025-05-20T11:17:59.621087Z",
     "start_time": "2025-05-20T11:17:59.604955Z"
    }
   },
   "cell_type": "code",
   "source": [
    "'''This is an example \n",
    "of multiline comment'''\n",
    "print(\"Hello, World!\")"
   ],
   "id": "8844f789a7b286cb",
   "outputs": [
    {
     "name": "stdout",
     "output_type": "stream",
     "text": [
      "Hello, World!\n"
     ]
    }
   ],
   "execution_count": 13
  },
  {
   "metadata": {},
   "cell_type": "markdown",
   "source": [
    "### 📌 Why Use Comments?\n",
    "We should use comments:\n",
    "\n",
    "- For future references, as comments make our code readable.\n",
    "- For debugging.\n",
    "- For code collaboration, as comments help peer developers to understand each other's code."
   ],
   "id": "8e8331e88ae03a45"
  },
  {
   "metadata": {},
   "cell_type": "markdown",
   "source": [
    "## 🖇️ Python Variables\n",
    "In programming, a variable is a container (storage area) to hold data. For example,\n"
   ],
   "id": "f2cb3f77645b256a"
  },
  {
   "metadata": {
    "ExecuteTime": {
     "end_time": "2025-05-20T11:22:15.181324Z",
     "start_time": "2025-05-20T11:22:15.165799Z"
    }
   },
   "cell_type": "code",
   "source": "number=10",
   "id": "ca297cd396ca072c",
   "outputs": [],
   "execution_count": 14
  },
  {
   "metadata": {},
   "cell_type": "markdown",
   "source": [
    "Here, number is a variable storing the value **10**.\n",
    "\n",
    "### ⏩Assigning values to Variables in Python\n",
    "\n",
    "As we can see from the above example, we use the assignment operator `=` to assign a value to a variable."
   ],
   "id": "cd807375e415c0d2"
  },
  {
   "metadata": {
    "ExecuteTime": {
     "end_time": "2025-05-20T11:26:28.811474Z",
     "start_time": "2025-05-20T11:26:28.804296Z"
    }
   },
   "cell_type": "code",
   "source": [
    "# assign value to name variable\n",
    "name = 'Akshit'\n",
    "print(name)"
   ],
   "id": "40ef2f96cca96ae5",
   "outputs": [
    {
     "name": "stdout",
     "output_type": "stream",
     "text": [
      "Akshit\n"
     ]
    }
   ],
   "execution_count": 16
  },
  {
   "metadata": {},
   "cell_type": "markdown",
   "source": "#### 📌 Changing the Value of a Variable in Python\n",
   "id": "de7948577818883b"
  },
  {
   "metadata": {
    "ExecuteTime": {
     "end_time": "2025-05-20T11:35:18.902619Z",
     "start_time": "2025-05-20T11:35:18.893366Z"
    }
   },
   "cell_type": "code",
   "source": [
    "name = 'Akshit'\n",
    "print(name)\n",
    "\n",
    "# assigning a new value to name\n",
    "name = 'Sonani'\n",
    "\n",
    "print(name)"
   ],
   "id": "e524c8d5c1277c59",
   "outputs": [
    {
     "name": "stdout",
     "output_type": "stream",
     "text": [
      "Akshit\n",
      "Sonani\n"
     ]
    }
   ],
   "execution_count": 18
  },
  {
   "metadata": {},
   "cell_type": "markdown",
   "source": "#### 📌 Example: Assigning multiple values to multiple variables",
   "id": "6c78e471923be41"
  },
  {
   "metadata": {
    "ExecuteTime": {
     "end_time": "2025-05-20T11:35:40.247837Z",
     "start_time": "2025-05-20T11:35:40.227911Z"
    }
   },
   "cell_type": "code",
   "source": [
    "a, b, c = 5, 3.2, 'Hello'\n",
    "\n",
    "print (a)  # prints 5\n",
    "print (b)  # prints 3.2\n",
    "print (c)  # prints Hello "
   ],
   "id": "8fe3b15c39f976c5",
   "outputs": [
    {
     "name": "stdout",
     "output_type": "stream",
     "text": [
      "5\n",
      "3.2\n",
      "Hello\n"
     ]
    }
   ],
   "execution_count": 19
  },
  {
   "metadata": {},
   "cell_type": "markdown",
   "source": "If we want to assign the same value to multiple variables at once, we can do this as:",
   "id": "82f06d97a976d571"
  },
  {
   "metadata": {
    "ExecuteTime": {
     "end_time": "2025-05-20T11:36:40.618858Z",
     "start_time": "2025-05-20T11:36:40.600573Z"
    }
   },
   "cell_type": "code",
   "source": [
    "x = y  = 'Hello'\n",
    "\n",
    "print (x)  # prints Hello\n",
    "print (y)  # prints Hello"
   ],
   "id": "e2130480bb33782e",
   "outputs": [
    {
     "name": "stdout",
     "output_type": "stream",
     "text": [
      "Hello\n",
      "Hello\n"
     ]
    }
   ],
   "execution_count": 20
  },
  {
   "metadata": {},
   "cell_type": "markdown",
   "source": [
    "## 📌 Python Literals\n",
    "\n",
    "Literals are representations of fixed values in a program. They can be numbers, characters, or strings, etc. For example, `'Hello, World!'`, `12`, `23.0`, `'C'`, etc.\n",
    "\n",
    "### 📌 Python Numeric Literals\n",
    "\n",
    "Numeric Literals are immutable (unchangeable). Numeric literals can belong to **3** different numerical types: `Integer`, `Float`, and `Complex`.\n",
    "\n",
    "#### 1) Integer Literals\n",
    "Integer literals are numbers without decimal parts. It also consists of negative numbers. For example, `5`, `-11`, `0`, `12`, etc.\n",
    "#### 2) Floating-Point Literals\n",
    "Floating-point literals are numbers that contain decimal parts.\n",
    "\n",
    "Just like integers, floating-point numbers can also be both positive and negative. For example, `2.5`, `6.76`, `0.0`, `-9.45`, etc.\n",
    "#### 3) Complex Literals\n",
    "Complex literals are numbers that represent complex numbers.\n",
    "\n",
    "Here, numerals are in the form `a + bj`, where `a` is real and `b` is imaginary. For example, `6+9j`, `2+3j`.\n",
    "\n",
    "### 📌 Python String Literals\n",
    "\n",
    "In Python, texts wrapped inside quotation marks are called **string literals**.\n",
    "\n",
    "```python\n",
    "\"This is a string.\"\n",
    "```\n",
    "We can also use single quotes to create strings.\n",
    "```python\n",
    "'This is also a string.'\n",
    "```"
   ],
   "id": "a5ab38b1d9b413c7"
  },
  {
   "metadata": {},
   "cell_type": "markdown",
   "source": [
    "## 🔁 Python Type Conversion\n",
    "\n",
    "In programming, type conversion is the process of converting data of one type to another. For example: converting `int` data to `str`.\n",
    "\n",
    "There are two types of type conversion in Python.\n",
    "\n",
    "- Implicit Conversion - automatic type conversion\n",
    "- Explicit Conversion - manual type conversion\n",
    "\n",
    "### 📌 Implicit Type Conversion\n",
    "In certain situations, Python automatically converts one data type to another. This is known as implicit type conversion.\n",
    "\n",
    "#### Example 1: Converting integer to float\n",
    "\n",
    "Let's see an example where Python promotes the conversion of the lower data type (integer) to the higher data type (float) to avoid data loss."
   ],
   "id": "77b7da3923dbdef8"
  },
  {
   "metadata": {
    "ExecuteTime": {
     "end_time": "2025-05-20T11:55:14.408367Z",
     "start_time": "2025-05-20T11:55:14.380209Z"
    }
   },
   "cell_type": "code",
   "source": [
    "integer = 200\n",
    "float = 200.15\n",
    "\n",
    "sum = integer + float\n",
    "\n",
    "# display new value and resulting data type\n",
    "\n",
    "print(\"value: \",sum)\n",
    "print(\"Data Type: \",type(sum))"
   ],
   "id": "ae966dd5a7bc1e7d",
   "outputs": [
    {
     "name": "stdout",
     "output_type": "stream",
     "text": [
      "value:  400.15\n",
      "Data Type:  <class 'float'>\n"
     ]
    }
   ],
   "execution_count": 21
  },
  {
   "metadata": {},
   "cell_type": "markdown",
   "source": [
    "In the above example, we have created two variables: `integer` and `float` of `int` and `float` type respectively.\n",
    "\n",
    "Then we added these two variables and stored the result in `sum`.\n",
    "\n",
    "As we can see new_number has value **400.15** and is of the `float` data type.\n",
    "\n",
    "> **Note:**\n",
    "> - We get `TypeError`, if we try to add `str` and `int`. For example, `'12' + 23`. Python is not able to use Implicit Conversion in such conditions.\n",
    "> - Python has a solution for these types of situations which is known as Explicit Conversion.\n",
    "\n",
    "### 📌 Explicit Type Conversion\n",
    "In Explicit Type Conversion, users convert the data type of an object to required data type.\n",
    "\n",
    "We use the built-in functions like int(), float(), str(), etc to perform explicit type conversion.\n",
    "\n",
    "This type of conversion is also called typecasting because the user casts (changes) the data type of the objects.\n",
    "\n",
    "#### Example 2: Addition of string and integer Using Explicit Conversion"
   ],
   "id": "b55970f0d61e6549"
  },
  {
   "metadata": {
    "ExecuteTime": {
     "end_time": "2025-05-20T12:08:22.744627Z",
     "start_time": "2025-05-20T12:08:22.735830Z"
    }
   },
   "cell_type": "code",
   "source": [
    "num_string = '12'\n",
    "num_integer = 23\n",
    "\n",
    "print(\"Data type of num_string before Type Casting:\",type(num_string))\n",
    "\n",
    "# explicit type conversion\n",
    "\n",
    "num_string = int(num_string)\n",
    "\n",
    "print(\"Data type of num_string after Type Casting:\",type(num_string))\n",
    "\n",
    "sum = num_string + num_integer\n",
    "\n",
    "print(\"Sum: \",sum)\n",
    "print(\"Data type of sum after Type Casting:\",type(sum))"
   ],
   "id": "ace053d929be17ca",
   "outputs": [
    {
     "name": "stdout",
     "output_type": "stream",
     "text": [
      "Data type of num_string before Type Casting: <class 'str'>\n",
      "Data type of num_string after Type Casting: <class 'int'>\n",
      "Sum:  35\n",
      "Data type of sum after Type Casting: <class 'int'>\n"
     ]
    }
   ],
   "execution_count": 25
  },
  {
   "metadata": {},
   "cell_type": "markdown",
   "source": "In the above example, we have created two variables: `num_string` and `num_integer` with `str` and `int` type values respectively. Notice the code,",
   "id": "1665cf9904269482"
  },
  {
   "metadata": {
    "ExecuteTime": {
     "end_time": "2025-05-20T12:09:33.192826Z",
     "start_time": "2025-05-20T12:09:33.183933Z"
    }
   },
   "cell_type": "code",
   "source": "num_string = int(num_string)",
   "id": "79420b2ca7cdf748",
   "outputs": [],
   "execution_count": 26
  },
  {
   "metadata": {},
   "cell_type": "markdown",
   "source": [
    "Here, we have used `int()` to perform explicit type conversion of `num_string` to integer type.\n",
    "\n",
    "After converting `num_string` to an integer value, Python is able to add these two variables.\n",
    "\n",
    "Finally, we got the `sum` value i.e **35** and data type to be `int`.\n",
    "\n",
    "### 📌 Key Points to Remember\n",
    "1) Type Conversion is the conversion of an object from one data type to another data type.\n",
    "2) Implicit Type Conversion is automatically performed by the Python interpreter.\n",
    "3) Python avoids the loss of data in Implicit Type Conversion.\n",
    "4) Explicit Type Conversion is also called Type Casting, the data types of objects are converted using predefined functions by the user.\n",
    "5) In Type Casting, loss of data may occur as we enforce the object to a specific data type.\n",
    "\n",
    "## 👨🏻‍🚀 Python Operators\n",
    "\n",
    "### 📌 Types of Python Operators\n",
    "\n",
    "1) Arithmetic Operators\n",
    "2) Assignment Operators\n",
    "3) Comparison Operators\n",
    "4) Logical Operators\n",
    "5) Bitwise Operators\n",
    "6) Special Operators\n",
    "\n",
    "\n",
    "#### 1️⃣ Python Arithmetic Operators"
   ],
   "id": "edb20ba4deb7ade0"
  },
  {
   "metadata": {
    "ExecuteTime": {
     "end_time": "2025-05-31T21:11:33.932646Z",
     "start_time": "2025-05-31T21:11:33.918556Z"
    }
   },
   "cell_type": "code",
   "source": "sub = 10-5",
   "id": "38e5549e7a7a3168",
   "outputs": [],
   "execution_count": 1
  },
  {
   "metadata": {},
   "cell_type": "markdown",
   "source": "Here, `-` is an arithmetic operator",
   "id": "ef4dc20aec6a0507"
  },
  {
   "metadata": {},
   "cell_type": "markdown",
   "source": [
    "| Operator |operation|\n",
    "|----------|---------|\n",
    "| `+`      |Addtion|\n",
    "| `-`      |Substraction|\n",
    "| `*`      |Multiplication|\n",
    "| `/`      |Division|\n",
    "| `//`     |Floor division|\n",
    "| `%`      |Modulo|\n",
    "| `**`     |Power|\n"
   ],
   "id": "fbcf58aac8123a61"
  },
  {
   "metadata": {},
   "cell_type": "markdown",
   "source": "",
   "id": "eadec5ceb17796dd"
  }
 ],
 "metadata": {
  "kernelspec": {
   "display_name": "Python 3",
   "language": "python",
   "name": "python3"
  },
  "language_info": {
   "codemirror_mode": {
    "name": "ipython",
    "version": 2
   },
   "file_extension": ".py",
   "mimetype": "text/x-python",
   "name": "python",
   "nbconvert_exporter": "python",
   "pygments_lexer": "ipython2",
   "version": "2.7.6"
  }
 },
 "nbformat": 4,
 "nbformat_minor": 5
}
