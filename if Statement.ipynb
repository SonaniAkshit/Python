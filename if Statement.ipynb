{
 "cells": [
  {
   "metadata": {},
   "cell_type": "markdown",
   "source": "# 💢 `if` Statement",
   "id": "fd5607e473aa133b"
  },
  {
   "cell_type": "code",
   "id": "initial_id",
   "metadata": {
    "collapsed": true,
    "ExecuteTime": {
     "end_time": "2025-05-22T07:27:49.049126Z",
     "start_time": "2025-05-22T07:27:41.511513Z"
    }
   },
   "source": [
    "num=int(input(\"Enter a number: \"))\n",
    "num\n",
    "\n",
    "if num%2==0:\n",
    "    print(\"Even\")\n",
    "else:\n",
    "    print(\"Odd\")\n"
   ],
   "outputs": [
    {
     "name": "stdout",
     "output_type": "stream",
     "text": [
      "Odd\n"
     ]
    }
   ],
   "execution_count": 5
  },
  {
   "metadata": {},
   "cell_type": "markdown",
   "source": "# ☸️ Operators",
   "id": "1ed2e620cb53b23a"
  },
  {
   "metadata": {
    "ExecuteTime": {
     "end_time": "2025-05-22T07:31:41.595857Z",
     "start_time": "2025-05-22T07:31:41.586717Z"
    }
   },
   "cell_type": "code",
   "source": "4==4",
   "id": "3c5f77b151d18584",
   "outputs": [
    {
     "data": {
      "text/plain": [
       "True"
      ]
     },
     "execution_count": 7,
     "metadata": {},
     "output_type": "execute_result"
    }
   ],
   "execution_count": 7
  },
  {
   "metadata": {
    "ExecuteTime": {
     "end_time": "2025-05-22T07:32:06.728237Z",
     "start_time": "2025-05-22T07:32:06.704378Z"
    }
   },
   "cell_type": "code",
   "source": "4!=5",
   "id": "c1bea1dbb5717f4c",
   "outputs": [
    {
     "data": {
      "text/plain": [
       "True"
      ]
     },
     "execution_count": 8,
     "metadata": {},
     "output_type": "execute_result"
    }
   ],
   "execution_count": 8
  },
  {
   "metadata": {
    "ExecuteTime": {
     "end_time": "2025-05-22T07:32:13.494114Z",
     "start_time": "2025-05-22T07:32:13.470921Z"
    }
   },
   "cell_type": "code",
   "source": "4!=4",
   "id": "b98cc7b78464ec0f",
   "outputs": [
    {
     "data": {
      "text/plain": [
       "False"
      ]
     },
     "execution_count": 9,
     "metadata": {},
     "output_type": "execute_result"
    }
   ],
   "execution_count": 9
  },
  {
   "metadata": {
    "ExecuteTime": {
     "end_time": "2025-05-22T07:32:19.717300Z",
     "start_time": "2025-05-22T07:32:19.694127Z"
    }
   },
   "cell_type": "code",
   "source": "2>1",
   "id": "be1a3afdf47e620b",
   "outputs": [
    {
     "data": {
      "text/plain": [
       "True"
      ]
     },
     "execution_count": 10,
     "metadata": {},
     "output_type": "execute_result"
    }
   ],
   "execution_count": 10
  },
  {
   "metadata": {
    "ExecuteTime": {
     "end_time": "2025-05-22T07:32:23.633492Z",
     "start_time": "2025-05-22T07:32:23.608205Z"
    }
   },
   "cell_type": "code",
   "source": "2<3",
   "id": "242e86571c0cdbc6",
   "outputs": [
    {
     "data": {
      "text/plain": [
       "True"
      ]
     },
     "execution_count": 11,
     "metadata": {},
     "output_type": "execute_result"
    }
   ],
   "execution_count": 11
  },
  {
   "metadata": {
    "ExecuteTime": {
     "end_time": "2025-05-22T07:32:31.744406Z",
     "start_time": "2025-05-22T07:32:31.722473Z"
    }
   },
   "cell_type": "code",
   "source": "2>=2",
   "id": "6035eb87d40b4e17",
   "outputs": [
    {
     "data": {
      "text/plain": [
       "True"
      ]
     },
     "execution_count": 12,
     "metadata": {},
     "output_type": "execute_result"
    }
   ],
   "execution_count": 12
  },
  {
   "metadata": {
    "ExecuteTime": {
     "end_time": "2025-05-22T07:32:38.017110Z",
     "start_time": "2025-05-22T07:32:38.005780Z"
    }
   },
   "cell_type": "code",
   "source": "2>=1",
   "id": "6e1600541b7217f3",
   "outputs": [
    {
     "data": {
      "text/plain": [
       "True"
      ]
     },
     "execution_count": 13,
     "metadata": {},
     "output_type": "execute_result"
    }
   ],
   "execution_count": 13
  },
  {
   "metadata": {
    "ExecuteTime": {
     "end_time": "2025-05-22T07:32:45.354359Z",
     "start_time": "2025-05-22T07:32:45.332663Z"
    }
   },
   "cell_type": "code",
   "source": "3<=4",
   "id": "627ce288bba745c9",
   "outputs": [
    {
     "data": {
      "text/plain": [
       "True"
      ]
     },
     "execution_count": 14,
     "metadata": {},
     "output_type": "execute_result"
    }
   ],
   "execution_count": 14
  },
  {
   "metadata": {
    "ExecuteTime": {
     "end_time": "2025-05-22T07:32:58.513121Z",
     "start_time": "2025-05-22T07:32:58.501116Z"
    }
   },
   "cell_type": "code",
   "source": "3>2 and 4>1",
   "id": "9cf97b89159a83b4",
   "outputs": [
    {
     "data": {
      "text/plain": [
       "True"
      ]
     },
     "execution_count": 15,
     "metadata": {},
     "output_type": "execute_result"
    }
   ],
   "execution_count": 15
  },
  {
   "metadata": {
    "ExecuteTime": {
     "end_time": "2025-05-22T07:33:15.812546Z",
     "start_time": "2025-05-22T07:33:15.802953Z"
    }
   },
   "cell_type": "code",
   "source": "3>2 and 4>5",
   "id": "973eeddd0e0a2a9a",
   "outputs": [
    {
     "data": {
      "text/plain": [
       "False"
      ]
     },
     "execution_count": 17,
     "metadata": {},
     "output_type": "execute_result"
    }
   ],
   "execution_count": 17
  },
  {
   "metadata": {
    "ExecuteTime": {
     "end_time": "2025-05-22T07:33:26.409030Z",
     "start_time": "2025-05-22T07:33:26.388149Z"
    }
   },
   "cell_type": "code",
   "source": "3>2 or 4>5",
   "id": "595cfd10d210830",
   "outputs": [
    {
     "data": {
      "text/plain": [
       "True"
      ]
     },
     "execution_count": 18,
     "metadata": {},
     "output_type": "execute_result"
    }
   ],
   "execution_count": 18
  },
  {
   "metadata": {
    "ExecuteTime": {
     "end_time": "2025-05-22T07:33:37.729097Z",
     "start_time": "2025-05-22T07:33:37.706554Z"
    }
   },
   "cell_type": "code",
   "source": "not True",
   "id": "591e2d25f1ef56eb",
   "outputs": [
    {
     "data": {
      "text/plain": [
       "False"
      ]
     },
     "execution_count": 19,
     "metadata": {},
     "output_type": "execute_result"
    }
   ],
   "execution_count": 19
  },
  {
   "metadata": {
    "ExecuteTime": {
     "end_time": "2025-05-22T07:33:43.406330Z",
     "start_time": "2025-05-22T07:33:43.381659Z"
    }
   },
   "cell_type": "code",
   "source": "not 4==4",
   "id": "8d5f295ecc5f0d81",
   "outputs": [
    {
     "data": {
      "text/plain": [
       "False"
      ]
     },
     "execution_count": 20,
     "metadata": {},
     "output_type": "execute_result"
    }
   ],
   "execution_count": 20
  },
  {
   "metadata": {},
   "cell_type": "markdown",
   "source": [
    "### 📌 Example: \n",
    "#### write a program that asks user to enter dish name and it should print which cusine is that dish."
   ],
   "id": "d4c0ed2dda086312"
  },
  {
   "metadata": {
    "ExecuteTime": {
     "end_time": "2025-05-22T07:45:50.646091Z",
     "start_time": "2025-05-22T07:45:46.100655Z"
    }
   },
   "cell_type": "code",
   "source": [
    "indian=[\"samosa\",\"dosa\",\"aalu puri\"]\n",
    "chinese=[\"noodle\",\"manchurian\",\"momos\"]\n",
    "italian=[\"pizza\",\"pasta\",\"cheese nachos\"] \n",
    "\n",
    "dish=input(\"Enter a dish name: \")\n",
    "\n",
    "if dish in indian:\n",
    "    print(dish+\":\"+\"Indian\")\n",
    "elif dish in chinese:\n",
    "    print(dish+\":\"+\"Chinese\")\n",
    "elif dish in italian:\n",
    "    print(dish+\":\"+\"Italian\")\n",
    "else:\n",
    "    print(\"No such dish:\",dish)"
   ],
   "id": "3bdedb2f54fc9b40",
   "outputs": [
    {
     "name": "stdout",
     "output_type": "stream",
     "text": [
      "pizza:Italian\n"
     ]
    }
   ],
   "execution_count": 32
  },
  {
   "metadata": {},
   "cell_type": "code",
   "outputs": [],
   "execution_count": null,
   "source": "",
   "id": "75ea44cfee3ad904"
  }
 ],
 "metadata": {
  "kernelspec": {
   "display_name": "Python 3",
   "language": "python",
   "name": "python3"
  },
  "language_info": {
   "codemirror_mode": {
    "name": "ipython",
    "version": 2
   },
   "file_extension": ".py",
   "mimetype": "text/x-python",
   "name": "python",
   "nbconvert_exporter": "python",
   "pygments_lexer": "ipython2",
   "version": "2.7.6"
  }
 },
 "nbformat": 4,
 "nbformat_minor": 5
}
