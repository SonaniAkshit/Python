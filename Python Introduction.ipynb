{
 "cells": [
  {
   "metadata": {},
   "cell_type": "markdown",
   "source": [
    "# Getting Started with Python 🐍\n",
    "\n",
    "Python is a versatile, high-level programming language that is widely supported across all major operating systems.Now, let's write a simple Python program.\n",
    "\n",
    "The following program displays `Hello, World!` on the screen.\n",
    "\n"
   ],
   "id": "27084b9aa51c5d83"
  },
  {
   "cell_type": "code",
   "id": "initial_id",
   "metadata": {
    "collapsed": true,
    "ExecuteTime": {
     "end_time": "2025-05-20T10:51:43.127272Z",
     "start_time": "2025-05-20T10:51:43.113547Z"
    }
   },
   "source": "print(\"Hello World!\")",
   "outputs": [
    {
     "name": "stdout",
     "output_type": "stream",
     "text": [
      "Hello World!\n"
     ]
    }
   ],
   "execution_count": 1
  },
  {
   "metadata": {},
   "cell_type": "markdown",
   "source": [
    "\n",
    "> **Note:**  A `Hello World!` program includes the basic syntax of a programming language and helps beginners understand the structure before getting started. That's why it is a common practice to introduce a new language using a `Hello World!` program.\n",
    "\n",
    "## Working of the Program\n",
    "\n",
    "Now, let's see how the above program works.\n",
    "\n",
    "![](img/python-hello-world.png)\n",
    "\n",
    "In Python, anything inside `print()` is displayed on the screen.\n",
    "\n",
    "There are two things to note about `print()`:\n",
    "\n",
    "- Everything we want to display on the screen is included inside the parentheses `()`.\n",
    "- The text we want to print is placed within double quotes `\" \"`.\n",
    "\n",
    "We can also use single quotes to print text on the screen. For example,"
   ],
   "id": "6c6881e77a6822ac"
  },
  {
   "metadata": {
    "ExecuteTime": {
     "end_time": "2025-05-20T10:58:52.632178Z",
     "start_time": "2025-05-20T10:58:52.613264Z"
    }
   },
   "cell_type": "code",
   "source": "print('Hello World!')",
   "id": "28562c5631d87ca5",
   "outputs": [
    {
     "name": "stdout",
     "output_type": "stream",
     "text": [
      "Hello World!\n"
     ]
    }
   ],
   "execution_count": 2
  },
  {
   "metadata": {},
   "cell_type": "markdown",
   "source": "is same as",
   "id": "b5a72c670340a451"
  },
  {
   "metadata": {
    "ExecuteTime": {
     "end_time": "2025-05-20T10:59:12.530750Z",
     "start_time": "2025-05-20T10:59:12.523496Z"
    }
   },
   "cell_type": "code",
   "source": "print(\"Hello World!\")",
   "id": "b6125d13581b6567",
   "outputs": [
    {
     "name": "stdout",
     "output_type": "stream",
     "text": [
      "Hello World!\n"
     ]
    }
   ],
   "execution_count": 3
  },
  {
   "metadata": {},
   "cell_type": "markdown",
   "source": [
    "## #️⃣ Python Comments\n",
    "\n",
    "Comments are hints that we add to our code to make it easier to understand. Python comments start with `#`. For example,\n"
   ],
   "id": "531d86a956fc7f5e"
  },
  {
   "metadata": {
    "ExecuteTime": {
     "end_time": "2025-05-20T11:07:22.919535Z",
     "start_time": "2025-05-20T11:07:22.885515Z"
    }
   },
   "cell_type": "code",
   "source": [
    "# print a number\n",
    "print(25)"
   ],
   "id": "59234f0c3ece071a",
   "outputs": [
    {
     "name": "stdout",
     "output_type": "stream",
     "text": [
      "25\n"
     ]
    }
   ],
   "execution_count": 4
  },
  {
   "metadata": {},
   "cell_type": "markdown",
   "source": [
    "Here, `# print a number` is a comment.\n",
    "\n",
    "Comments are completely ignored and not executed by code editors.\n",
    "\n",
    "### *️⃣ Single-line Comment\n",
    "\n",
    "We use the **hash (`#`)** symbol to write a single-line comment. For example,\n"
   ],
   "id": "568e5730feb3101f"
  },
  {
   "metadata": {
    "ExecuteTime": {
     "end_time": "2025-05-20T11:15:47.477137Z",
     "start_time": "2025-05-20T11:15:47.466874Z"
    }
   },
   "cell_type": "code",
   "source": [
    "# declare a variable\n",
    "name = \"Akshit\"\n",
    "\n",
    "# print name\n",
    "print(name)    # Akshit"
   ],
   "id": "327e6f473456c94",
   "outputs": [
    {
     "name": "stdout",
     "output_type": "stream",
     "text": [
      "Akshit\n"
     ]
    }
   ],
   "execution_count": 10
  },
  {
   "metadata": {},
   "cell_type": "markdown",
   "source": [
    "In the above example, we have used three single-line comments:\n",
    "\n",
    "- `# declare a variable`\n",
    "- `# print name`\n",
    "- `# John`"
   ],
   "id": "3a0f39ea97a225a9"
  },
  {
   "metadata": {},
   "cell_type": "markdown",
   "source": [
    "A **single-line comment** starts with `#` and extends up to the end of the line. We can also use single-line comments alongside the code:\n",
    "\n"
   ],
   "id": "1fe7e18d50f43522"
  },
  {
   "metadata": {
    "ExecuteTime": {
     "end_time": "2025-05-20T11:16:30.038798Z",
     "start_time": "2025-05-20T11:16:30.025312Z"
    }
   },
   "cell_type": "code",
   "source": "print(name)    # Akshit",
   "id": "d7d4c737e4b46eb1",
   "outputs": [
    {
     "name": "stdout",
     "output_type": "stream",
     "text": [
      "Akshit\n"
     ]
    }
   ],
   "execution_count": 11
  },
  {
   "metadata": {},
   "cell_type": "markdown",
   "source": [
    "## #️⃣ Multiline Comments\n",
    "\n",
    "Unlike languages such as C++ and Java, Python doesn't have a dedicated method to write multi-line comments.\n",
    "\n",
    "However, we can achieve the same effect by using the hash (`#`) symbol at the beginning of each line.\n",
    "\n",
    "Let's look at an example."
   ],
   "id": "d69d9ff5cbb77cc2"
  },
  {
   "metadata": {
    "ExecuteTime": {
     "end_time": "2025-05-20T11:17:37.272921Z",
     "start_time": "2025-05-20T11:17:37.254022Z"
    }
   },
   "cell_type": "code",
   "source": [
    "# This is an example of a multiline comment\n",
    "# created using multiple single-line commenced\n",
    "# The code prints the text Hello World\n",
    "print(\"Hello, World!\")"
   ],
   "id": "ce93691cdb8d1d57",
   "outputs": [
    {
     "name": "stdout",
     "output_type": "stream",
     "text": [
      "Hello, World!\n"
     ]
    }
   ],
   "execution_count": 12
  },
  {
   "metadata": {},
   "cell_type": "markdown",
   "source": "We can also use multiline strings as comments like:",
   "id": "edce2da35ab3d6ae"
  },
  {
   "metadata": {
    "ExecuteTime": {
     "end_time": "2025-05-20T11:17:59.621087Z",
     "start_time": "2025-05-20T11:17:59.604955Z"
    }
   },
   "cell_type": "code",
   "source": [
    "'''This is an example \n",
    "of multiline comment'''\n",
    "print(\"Hello, World!\")"
   ],
   "id": "8844f789a7b286cb",
   "outputs": [
    {
     "name": "stdout",
     "output_type": "stream",
     "text": [
      "Hello, World!\n"
     ]
    }
   ],
   "execution_count": 13
  },
  {
   "metadata": {},
   "cell_type": "markdown",
   "source": [
    "### 📌 Why Use Comments?\n",
    "We should use comments:\n",
    "\n",
    "- For future references, as comments make our code readable.\n",
    "- For debugging.\n",
    "- For code collaboration, as comments help peer developers to understand each other's code."
   ],
   "id": "8e8331e88ae03a45"
  },
  {
   "metadata": {},
   "cell_type": "markdown",
   "source": [
    "## 🖇️ Python Variables\n",
    "In programming, a variable is a container (storage area) to hold data. For example,\n"
   ],
   "id": "f2cb3f77645b256a"
  },
  {
   "metadata": {
    "ExecuteTime": {
     "end_time": "2025-05-20T11:22:15.181324Z",
     "start_time": "2025-05-20T11:22:15.165799Z"
    }
   },
   "cell_type": "code",
   "source": "number=10",
   "id": "ca297cd396ca072c",
   "outputs": [],
   "execution_count": 14
  },
  {
   "metadata": {},
   "cell_type": "markdown",
   "source": [
    "Here, number is a variable storing the value **10**.\n",
    "\n",
    "### ⏩Assigning values to Variables in Python\n",
    "\n",
    "As we can see from the above example, we use the assignment operator `=` to assign a value to a variable."
   ],
   "id": "cd807375e415c0d2"
  },
  {
   "metadata": {
    "ExecuteTime": {
     "end_time": "2025-05-20T11:26:28.811474Z",
     "start_time": "2025-05-20T11:26:28.804296Z"
    }
   },
   "cell_type": "code",
   "source": [
    "# assign value to name variable\n",
    "name = 'Akshit'\n",
    "print(name)"
   ],
   "id": "40ef2f96cca96ae5",
   "outputs": [
    {
     "name": "stdout",
     "output_type": "stream",
     "text": [
      "Akshit\n"
     ]
    }
   ],
   "execution_count": 16
  },
  {
   "metadata": {},
   "cell_type": "markdown",
   "source": "#### 📌 Changing the Value of a Variable in Python\n",
   "id": "de7948577818883b"
  },
  {
   "metadata": {
    "ExecuteTime": {
     "end_time": "2025-05-20T11:35:18.902619Z",
     "start_time": "2025-05-20T11:35:18.893366Z"
    }
   },
   "cell_type": "code",
   "source": [
    "name = 'Akshit'\n",
    "print(name)\n",
    "\n",
    "# assigning a new value to name\n",
    "name = 'Sonani'\n",
    "\n",
    "print(name)"
   ],
   "id": "e524c8d5c1277c59",
   "outputs": [
    {
     "name": "stdout",
     "output_type": "stream",
     "text": [
      "Akshit\n",
      "Sonani\n"
     ]
    }
   ],
   "execution_count": 18
  },
  {
   "metadata": {},
   "cell_type": "markdown",
   "source": "#### 📌 Example: Assigning multiple values to multiple variables",
   "id": "6c78e471923be41"
  },
  {
   "metadata": {
    "ExecuteTime": {
     "end_time": "2025-05-20T11:35:40.247837Z",
     "start_time": "2025-05-20T11:35:40.227911Z"
    }
   },
   "cell_type": "code",
   "source": [
    "a, b, c = 5, 3.2, 'Hello'\n",
    "\n",
    "print (a)  # prints 5\n",
    "print (b)  # prints 3.2\n",
    "print (c)  # prints Hello "
   ],
   "id": "8fe3b15c39f976c5",
   "outputs": [
    {
     "name": "stdout",
     "output_type": "stream",
     "text": [
      "5\n",
      "3.2\n",
      "Hello\n"
     ]
    }
   ],
   "execution_count": 19
  },
  {
   "metadata": {},
   "cell_type": "markdown",
   "source": "If we want to assign the same value to multiple variables at once, we can do this as:",
   "id": "82f06d97a976d571"
  },
  {
   "metadata": {
    "ExecuteTime": {
     "end_time": "2025-05-20T11:36:40.618858Z",
     "start_time": "2025-05-20T11:36:40.600573Z"
    }
   },
   "cell_type": "code",
   "source": [
    "x = y  = 'Hello'\n",
    "\n",
    "print (x)  # prints programiz.com\n",
    "print (y)  # prints programiz.com"
   ],
   "id": "e2130480bb33782e",
   "outputs": [
    {
     "name": "stdout",
     "output_type": "stream",
     "text": [
      "Hello\n",
      "Hello\n"
     ]
    }
   ],
   "execution_count": 20
  },
  {
   "metadata": {},
   "cell_type": "markdown",
   "source": [
    "## 📌 Python Literals\n",
    "\n",
    "Literals are representations of fixed values in a program. They can be numbers, characters, or strings, etc. For example, `'Hello, World!'`, `12`, `23.0`, `'C'`, etc.\n",
    "\n",
    "### 📌 Python Numeric Literals\n",
    "\n",
    "Numeric Literals are immutable (unchangeable). Numeric literals can belong to **3** different numerical types: `Integer`, `Float`, and `Complex`.\n",
    "\n",
    "#### 1) Integer Literals\n",
    "Integer literals are numbers without decimal parts. It also consists of negative numbers. For example, `5`, `-11`, `0`, `12`, etc.\n",
    "#### 2) Floating-Point Literals\n",
    "Floating-point literals are numbers that contain decimal parts.\n",
    "\n",
    "Just like integers, floating-point numbers can also be both positive and negative. For example, `2.5`, `6.76`, `0.0`, `-9.45`, etc.\n",
    "#### 3) Complex Literals\n",
    "Complex literals are numbers that represent complex numbers.\n",
    "\n",
    "Here, numerals are in the form `a + bj`, where `a` is real and `b` is imaginary. For example, `6+9j`, `2+3j`.\n"
   ],
   "id": "a5ab38b1d9b413c7"
  },
  {
   "metadata": {},
   "cell_type": "code",
   "outputs": [],
   "execution_count": null,
   "source": "",
   "id": "69527fbff69afe7b"
  }
 ],
 "metadata": {
  "kernelspec": {
   "display_name": "Python 3",
   "language": "python",
   "name": "python3"
  },
  "language_info": {
   "codemirror_mode": {
    "name": "ipython",
    "version": 2
   },
   "file_extension": ".py",
   "mimetype": "text/x-python",
   "name": "python",
   "nbconvert_exporter": "python",
   "pygments_lexer": "ipython2",
   "version": "2.7.6"
  }
 },
 "nbformat": 4,
 "nbformat_minor": 5
}
