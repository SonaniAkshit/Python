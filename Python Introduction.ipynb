{
 "cells": [
  {
   "metadata": {},
   "cell_type": "markdown",
   "source": [
    "# Getting Started with Python 🐍\n",
    "\n",
    "Python is a versatile, high-level programming language that is widely supported across all major operating systems.Now, let's write a simple Python program.\n",
    "\n",
    "The following program displays `Hello, World!` on the screen.\n",
    "\n"
   ],
   "id": "27084b9aa51c5d83"
  },
  {
   "cell_type": "code",
   "id": "initial_id",
   "metadata": {
    "collapsed": true,
    "ExecuteTime": {
     "end_time": "2025-05-20T10:51:43.127272Z",
     "start_time": "2025-05-20T10:51:43.113547Z"
    }
   },
   "source": "print(\"Hello World!\")",
   "outputs": [
    {
     "name": "stdout",
     "output_type": "stream",
     "text": [
      "Hello World!\n"
     ]
    }
   ],
   "execution_count": 1
  },
  {
   "metadata": {},
   "cell_type": "markdown",
   "source": [
    "\n",
    "> **Note:**  A `Hello World!` program includes the basic syntax of a programming language and helps beginners understand the structure before getting started. That's why it is a common practice to introduce a new language using a `Hello World!` program.\n",
    "\n",
    "## Working of the Program\n",
    "\n",
    "Now, let's see how the above program works.\n",
    "\n",
    "![](img/python-hello-world.png)\n",
    "\n",
    "In Python, anything inside `print()` is displayed on the screen.\n",
    "\n",
    "There are two things to note about `print()`:\n",
    "\n",
    "- Everything we want to display on the screen is included inside the parentheses `()`.\n",
    "- The text we want to print is placed within double quotes `\" \"`.\n",
    "\n",
    "We can also use single quotes to print text on the screen. For example,"
   ],
   "id": "6c6881e77a6822ac"
  },
  {
   "metadata": {
    "ExecuteTime": {
     "end_time": "2025-05-20T10:58:52.632178Z",
     "start_time": "2025-05-20T10:58:52.613264Z"
    }
   },
   "cell_type": "code",
   "source": "print('Hello World!')",
   "id": "28562c5631d87ca5",
   "outputs": [
    {
     "name": "stdout",
     "output_type": "stream",
     "text": [
      "Hello World!\n"
     ]
    }
   ],
   "execution_count": 2
  },
  {
   "metadata": {},
   "cell_type": "markdown",
   "source": "is same as",
   "id": "b5a72c670340a451"
  },
  {
   "metadata": {
    "ExecuteTime": {
     "end_time": "2025-05-20T10:59:12.530750Z",
     "start_time": "2025-05-20T10:59:12.523496Z"
    }
   },
   "cell_type": "code",
   "source": "print(\"Hello World!\")",
   "id": "b6125d13581b6567",
   "outputs": [
    {
     "name": "stdout",
     "output_type": "stream",
     "text": [
      "Hello World!\n"
     ]
    }
   ],
   "execution_count": 3
  },
  {
   "metadata": {},
   "cell_type": "markdown",
   "source": "",
   "id": "531d86a956fc7f5e"
  }
 ],
 "metadata": {
  "kernelspec": {
   "display_name": "Python 3",
   "language": "python",
   "name": "python3"
  },
  "language_info": {
   "codemirror_mode": {
    "name": "ipython",
    "version": 2
   },
   "file_extension": ".py",
   "mimetype": "text/x-python",
   "name": "python",
   "nbconvert_exporter": "python",
   "pygments_lexer": "ipython2",
   "version": "2.7.6"
  }
 },
 "nbformat": 4,
 "nbformat_minor": 5
}
