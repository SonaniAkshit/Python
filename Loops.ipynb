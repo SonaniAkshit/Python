{
 "cells": [
  {
   "metadata": {},
   "cell_type": "markdown",
   "source": [
    "# 📌 Loops\n",
    "\n",
    "### Problem:\n",
    "#### Store monthly expenses in an list and find out total expenses for all months"
   ],
   "id": "7be4ec1ed30e130d"
  },
  {
   "cell_type": "code",
   "id": "initial_id",
   "metadata": {
    "collapsed": true,
    "ExecuteTime": {
     "end_time": "2025-05-22T07:55:47.666902Z",
     "start_time": "2025-05-22T07:55:47.659566Z"
    }
   },
   "source": [
    "exp = [2340, 2500, 2100, 3100, 2980]\n",
    "total = exp[0] + exp[1] + exp[2] + exp[3] + exp[4]\n",
    "print(total)"
   ],
   "outputs": [
    {
     "name": "stdout",
     "output_type": "stream",
     "text": [
      "13020\n"
     ]
    }
   ],
   "execution_count": 14
  },
  {
   "metadata": {
    "ExecuteTime": {
     "end_time": "2025-05-22T07:56:03.916576Z",
     "start_time": "2025-05-22T07:56:03.908170Z"
    }
   },
   "cell_type": "code",
   "source": [
    "total = 0\n",
    "for item in exp:\n",
    "    total = total + item\n",
    "print(total)"
   ],
   "id": "f2a6751ba4c65845",
   "outputs": [
    {
     "name": "stdout",
     "output_type": "stream",
     "text": [
      "13020\n"
     ]
    }
   ],
   "execution_count": 20
  },
  {
   "metadata": {
    "ExecuteTime": {
     "end_time": "2025-05-22T07:57:15.080298Z",
     "start_time": "2025-05-22T07:57:15.072678Z"
    }
   },
   "cell_type": "code",
   "source": [
    "for i in range(len(exp)):\n",
    "    print(exp[i])"
   ],
   "id": "50d317be9f0d097f",
   "outputs": [
    {
     "name": "stdout",
     "output_type": "stream",
     "text": [
      "2340\n",
      "2500\n",
      "2100\n",
      "3100\n",
      "2980\n"
     ]
    }
   ],
   "execution_count": 24
  },
  {
   "metadata": {
    "ExecuteTime": {
     "end_time": "2025-05-22T07:57:54.967397Z",
     "start_time": "2025-05-22T07:57:54.960632Z"
    }
   },
   "cell_type": "code",
   "source": [
    "for i in range(10):\n",
    "    print(i)"
   ],
   "id": "8a4246efb8d621ab",
   "outputs": [
    {
     "name": "stdout",
     "output_type": "stream",
     "text": [
      "0\n",
      "1\n",
      "2\n",
      "3\n",
      "4\n",
      "5\n",
      "6\n",
      "7\n",
      "8\n",
      "9\n"
     ]
    }
   ],
   "execution_count": 27
  },
  {
   "metadata": {
    "ExecuteTime": {
     "end_time": "2025-05-22T07:58:13.360330Z",
     "start_time": "2025-05-22T07:58:13.353346Z"
    }
   },
   "cell_type": "code",
   "source": [
    "for i in range(11):\n",
    "    print(i)"
   ],
   "id": "ce6e8c8beb569947",
   "outputs": [
    {
     "name": "stdout",
     "output_type": "stream",
     "text": [
      "0\n",
      "1\n",
      "2\n",
      "3\n",
      "4\n",
      "5\n",
      "6\n",
      "7\n",
      "8\n",
      "9\n",
      "10\n"
     ]
    }
   ],
   "execution_count": 29
  },
  {
   "metadata": {
    "ExecuteTime": {
     "end_time": "2025-05-22T07:58:27.941509Z",
     "start_time": "2025-05-22T07:58:27.925474Z"
    }
   },
   "cell_type": "code",
   "source": [
    "for i in range(1,11):\n",
    "    print(i)"
   ],
   "id": "b92f21ad38245bd0",
   "outputs": [
    {
     "name": "stdout",
     "output_type": "stream",
     "text": [
      "1\n",
      "2\n",
      "3\n",
      "4\n",
      "5\n",
      "6\n",
      "7\n",
      "8\n",
      "9\n",
      "10\n"
     ]
    }
   ],
   "execution_count": 30
  },
  {
   "metadata": {
    "ExecuteTime": {
     "end_time": "2025-05-22T08:03:06.611742Z",
     "start_time": "2025-05-22T08:03:06.607418Z"
    }
   },
   "cell_type": "code",
   "source": [
    "\n",
    "    "
   ],
   "id": "e1ac92e50c400d08",
   "outputs": [],
   "execution_count": 42
  },
  {
   "metadata": {
    "ExecuteTime": {
     "end_time": "2025-05-22T08:03:08.747534Z",
     "start_time": "2025-05-22T08:03:08.739376Z"
    }
   },
   "cell_type": "code",
   "source": "",
   "id": "46d19cfd792a8fe0",
   "outputs": [],
   "execution_count": null
  },
  {
   "metadata": {},
   "cell_type": "code",
   "outputs": [],
   "execution_count": null,
   "source": "",
   "id": "38b880aae0f4672a"
  }
 ],
 "metadata": {
  "kernelspec": {
   "display_name": "Python 3",
   "language": "python",
   "name": "python3"
  },
  "language_info": {
   "codemirror_mode": {
    "name": "ipython",
    "version": 2
   },
   "file_extension": ".py",
   "mimetype": "text/x-python",
   "name": "python",
   "nbconvert_exporter": "python",
   "pygments_lexer": "ipython2",
   "version": "2.7.6"
  }
 },
 "nbformat": 4,
 "nbformat_minor": 5
}
